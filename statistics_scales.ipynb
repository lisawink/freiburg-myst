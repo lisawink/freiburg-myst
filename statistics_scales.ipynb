{
 "cells": [
  {
   "cell_type": "markdown",
   "metadata": {},
   "source": [
    "# Mutual Information across Scales"
   ]
  },
  {
   "cell_type": "code",
   "execution_count": 2,
   "metadata": {},
   "outputs": [],
   "source": [
    "import geopandas as gpd\n",
    "import pandas as pd\n",
    "from scipy.stats import pearsonr, spearmanr\n",
    "from sklearn.feature_selection import mutual_info_regression\n",
    "import matplotlib.pyplot as plt\n",
    "from tqdm import tqdm"
   ]
  },
  {
   "cell_type": "code",
   "execution_count": 3,
   "metadata": {},
   "outputs": [],
   "source": [
    "pd.set_option('display.max_columns', None)\n",
    "pd.set_option('display.max_rows', None)"
   ]
  },
  {
   "cell_type": "code",
   "execution_count": 4,
   "metadata": {},
   "outputs": [
    {
     "name": "stdout",
     "output_type": "stream",
     "text": [
      "Calculating statistics for 'Building Area'...\n",
      "Calculating statistics for 'Building Height'...\n",
      "Calculating statistics for 'Vegetation Index'...\n",
      "          Parameter  Pearson Correlation  Pearson p-value  \\\n",
      "0     Building Area             0.904194         0.035082   \n",
      "1   Building Height             0.882618         0.047417   \n",
      "2  Vegetation Index             0.904194         0.035082   \n",
      "\n",
      "   Spearman Correlation  Spearman p-value  Mutual Information  \n",
      "0                   0.9          0.037386            0.250000  \n",
      "1                   0.9          0.037386            0.183333  \n",
      "2                   0.9          0.037386            0.250000  \n"
     ]
    }
   ],
   "source": [
    "# Function to calculate correlations and mutual information\n",
    "def calculate_statistics(data, target_column):\n",
    "    results = []\n",
    "    \n",
    "    # Ensure the target column exists\n",
    "    if target_column not in data.columns:\n",
    "        raise ValueError(f\"Target column '{target_column}' not found in DataFrame.\")\n",
    "\n",
    "    # Loop through each column except the target column\n",
    "    for col in data.columns:\n",
    "        if col == target_column:\n",
    "            continue\n",
    "\n",
    "        print(f\"Calculating statistics for '{col}'...\")\n",
    "\n",
    "        # Drop NA values for pairwise comparison\n",
    "        valid_data = data[[col, target_column]].dropna()\n",
    "\n",
    "        if len(valid_data) <= 2:\n",
    "            # Append results\n",
    "            results.append({\n",
    "                'Parameter': col,\n",
    "                'Pearson Correlation': None,\n",
    "                'Pearson p-value': None,\n",
    "                'Spearman Correlation': None,\n",
    "                'Spearman p-value': None,\n",
    "                'Mutual Information': None\n",
    "            })\n",
    "        else:\n",
    "\n",
    "            x = valid_data[col]\n",
    "            y = valid_data[target_column]\n",
    "\n",
    "            # Calculate Pearson correlation\n",
    "            pearson_corr, pearson_pval = pearsonr(x, y)\n",
    "\n",
    "            # Calculate Spearman's rank correlation\n",
    "            spearman_corr, spearman_pval = spearmanr(x, y)\n",
    "\n",
    "            # Calculate mutual information\n",
    "            if len(x) < 4:\n",
    "                mi = None\n",
    "            else:\n",
    "                mi = mutual_info_regression(x.values.reshape(-1, 1), y)[0]\n",
    "\n",
    "            # Append results\n",
    "            results.append({\n",
    "                'Parameter': col,\n",
    "                'Pearson Correlation': pearson_corr,\n",
    "                'Pearson p-value': pearson_pval,\n",
    "                'Spearman Correlation': spearman_corr,\n",
    "                'Spearman p-value': spearman_pval,\n",
    "                'Mutual Information': mi\n",
    "            })\n",
    "\n",
    "    return pd.DataFrame(results)\n",
    "\n",
    "# Example usage\n",
    "if __name__ == \"__main__\":\n",
    "    # Example DataFrame with urban form variables and temperature\n",
    "    data = pd.DataFrame({\n",
    "        'Building Area': [100, 150, 200, 250, 300],\n",
    "        'Building Height': [10, 12, 15, 18, 20],\n",
    "        'Vegetation Index': [0.3, 0.35, 0.4, 0.45, 0.5],\n",
    "        'Temperature': [22, 24, 26, 25, 27]\n",
    "    })\n",
    "\n",
    "    target_column = 'Temperature'\n",
    "    stats = calculate_statistics(data, target_column)\n",
    "    print(stats)\n"
   ]
  },
  {
   "cell_type": "markdown",
   "metadata": {},
   "source": [
    "Temperature"
   ]
  },
  {
   "cell_type": "code",
   "execution_count": 5,
   "metadata": {},
   "outputs": [],
   "source": [
    "temp =  pd.read_csv('/Users/lisawink/Documents/paper1/data/gap_filled_data_ta_rh.csv')\n",
    "temp['datetime_UTC']=pd.to_datetime(temp['datetime_UTC'])\n",
    "temp = temp[temp['variable']=='Ta_deg_C']"
   ]
  },
  {
   "cell_type": "code",
   "execution_count": 6,
   "metadata": {},
   "outputs": [],
   "source": [
    "temp['datetime_UTC'] = temp['datetime_UTC'].astype(str)\n",
    "temp = temp.pivot(index='station_id', columns='datetime_UTC', values='value')"
   ]
  },
  {
   "cell_type": "markdown",
   "metadata": {},
   "source": [
    "Urban form"
   ]
  },
  {
   "cell_type": "code",
   "execution_count": 38,
   "metadata": {},
   "outputs": [],
   "source": [
    "#time = '2023-08-22 04:00:00+00:00'\n",
    "time = '2023-08-23 15:00:00+00:00'\n",
    "radii = [20,30,40,50,60,70,80,90,100,120,140,160,180,200,250,300,400,500,750]\n",
    "stats_dict = {}\n",
    "for i in radii:\n",
    "    stats = pd.read_csv(f'/Users/lisawink/Documents/paper1/data/processed_data/processed_station_stats_{i}.csv')\n",
    "    stats.index = stats['Parameter']\n",
    "    stats_dict[i] = stats"
   ]
  },
  {
   "cell_type": "code",
   "execution_count": null,
   "metadata": {},
   "outputs": [],
   "source": [
    "time = '2023-08-22 15:00:00+00:00'\n",
    "radii = [10,20,30,40,50,60,70,80,90,100,120,140,160,180,200,250,300,400,500,750]\n",
    "stats_dict = {}\n",
    "for i in tqdm(radii):\n",
    "    params = gpd.read_parquet(f'/Users/lisawink/Documents/paper1/data/processed_data/processed_station_params_{i}.parquet')\n",
    "    params = params.set_index('station_id')\n",
    "    if params.empty:\n",
    "        continue\n",
    "    if 'FRTECH' in params.index:\n",
    "        params = params[params.index!='FRTECH']\n",
    "\n",
    "    to_remove = ['station_no','station_name','station_long_name','station_type','station_lat','station_lon','station_elevation','mounting_structure','sky_view_factor','dominant_land_use','local_climate_zone','urban_atlas_class','urban_atlas_code','geometry','SVF']\n",
    "    params = params.drop(to_remove, axis=1)\n",
    "    params = params.merge(temp[time], left_on='station_id', right_on='station_id',how='inner')\n",
    "    stats = calculate_statistics(params, time)\n",
    "    stats.index = stats['Parameter']\n",
    "    stats.to_csv(f'/Users/lisawink/Documents/paper1/data/processed_data/processed_station_stats_{i,time}.csv', index=False)\n",
    "    stats_dict[i] = stats"
   ]
  },
  {
   "cell_type": "code",
   "execution_count": 46,
   "metadata": {},
   "outputs": [
    {
     "name": "stdout",
     "output_type": "stream",
     "text": [
      "20                      Parameter  Pearson Correlation  Pearson p-value  \\\n",
      "Parameter                                                              \n",
      "BuProx_min          BuProx_min             0.621347         0.378653   \n",
      "BuRough_3D_MAD  BuRough_3D_MAD             0.352312         0.647688   \n",
      "BuCCD_mean_MAD  BuCCD_mean_MAD             0.345258         0.654742   \n",
      "\n",
      "                Spearman Correlation  Spearman p-value  Mutual Information  \n",
      "Parameter                                                                   \n",
      "BuProx_min                       0.4               0.6        2.220446e-16  \n",
      "BuRough_3D_MAD                  -0.2               0.8        2.220446e-16  \n",
      "BuCCD_mean_MAD                  -0.2               0.8        2.220446e-16  \n",
      "30                  Parameter  Pearson Correlation  Pearson p-value  \\\n",
      "Parameter                                                          \n",
      "BuPer_IQR        BuPer_IQR            -0.415853         0.109149   \n",
      "BuCorDev_sum  BuCorDev_sum            -0.648097         0.006625   \n",
      "BuCWA_skew      BuCWA_skew             0.361087         0.169417   \n",
      "\n",
      "              Spearman Correlation  Spearman p-value  Mutual Information  \n",
      "Parameter                                                                 \n",
      "BuPer_IQR                -0.384106          0.141877            0.479910  \n",
      "BuCorDev_sum             -0.428256          0.097938            0.365873  \n",
      "BuCWA_skew                0.478293          0.060927            0.345238  \n",
      "40              Parameter  Pearson Correlation  Pearson p-value  \\\n",
      "Parameter                                                      \n",
      "BuOri_skew  BuOri_skew            -0.332453         0.152099   \n",
      "StrW_sum      StrW_sum             0.526945         0.179639   \n",
      "BuCWA_IQR    BuCWA_IQR            -0.310452         0.182799   \n",
      "\n",
      "            Spearman Correlation  Spearman p-value  Mutual Information  \n",
      "Parameter                                                               \n",
      "BuOri_skew             -0.467797          0.037529            0.449649  \n",
      "StrW_sum                0.073193          0.863253            0.361607  \n",
      "BuCWA_IQR              -0.354803          0.124784            0.295061  \n",
      "50              Parameter  Pearson Correlation  Pearson p-value  \\\n",
      "Parameter                                                      \n",
      "BuFD_min      BuFD_min            -0.048103         0.827465   \n",
      "BuFD_mode    BuFD_mode            -0.048103         0.827465   \n",
      "BuPerC_max  BuPerC_max             0.128265         0.559724   \n",
      "\n",
      "            Spearman Correlation  Spearman p-value  Mutual Information  \n",
      "Parameter                                                               \n",
      "BuFD_min               -0.532278          0.008935            0.391074  \n",
      "BuFD_mode              -0.532278          0.008935            0.391074  \n",
      "BuPerC_max              0.509028          0.013115            0.372316  \n",
      "60              Parameter  Pearson Correlation  Pearson p-value  \\\n",
      "Parameter                                                      \n",
      "BuFF_MAD      BuFF_MAD             0.541397         0.005191   \n",
      "BuFF_IQR      BuFF_IQR             0.675016         0.000214   \n",
      "BuDisp_MAD  BuDisp_MAD             0.502611         0.010449   \n",
      "\n",
      "            Spearman Correlation  Spearman p-value  Mutual Information  \n",
      "Parameter                                                               \n",
      "BuFF_MAD                0.689509          0.000137            0.446616  \n",
      "BuFF_IQR                0.652551          0.000407            0.364865  \n",
      "BuDisp_MAD              0.584793          0.002139            0.351887  \n",
      "70                  Parameter  Pearson Correlation  Pearson p-value  \\\n",
      "Parameter                                                          \n",
      "BuSpi_3D_max  BuSpi_3D_max             0.090213     6.480065e-01   \n",
      "BuGir_IQR        BuGir_IQR             0.307041     1.192715e-01   \n",
      "StrDeg_std      StrDeg_std            -0.999208     9.414703e-07   \n",
      "\n",
      "              Spearman Correlation  Spearman p-value  Mutual Information  \n",
      "Parameter                                                                 \n",
      "BuSpi_3D_max              0.047926          0.808645            0.340757  \n",
      "BuGir_IQR                 0.318619          0.105277            0.321990  \n",
      "StrDeg_std               -0.939336          0.005408            0.319444  \n",
      "80                  Parameter  Pearson Correlation  Pearson p-value  \\\n",
      "Parameter                                                          \n",
      "StrDeg_std      StrDeg_std            -0.099562         0.784354   \n",
      "BuSpi_3D_std  BuSpi_3D_std             0.443124         0.016063   \n",
      "BuGir_MAD        BuGir_MAD             0.368255         0.049347   \n",
      "\n",
      "              Spearman Correlation  Spearman p-value  Mutual Information  \n",
      "Parameter                                                                 \n",
      "StrDeg_std               -0.390130          0.265049            0.342063  \n",
      "BuSpi_3D_std              0.397831          0.032577            0.323460  \n",
      "BuGir_MAD                 0.389697          0.036645            0.254784  \n",
      "90                  Parameter  Pearson Correlation  Pearson p-value  \\\n",
      "Parameter                                                          \n",
      "BuSpi_3D_std  BuSpi_3D_std             0.418360         0.021405   \n",
      "BuGir_MAD        BuGir_MAD             0.311680         0.093609   \n",
      "StrW_max          StrW_max             0.265269         0.200002   \n",
      "\n",
      "              Spearman Correlation  Spearman p-value  Mutual Information  \n",
      "Parameter                                                                 \n",
      "BuSpi_3D_std              0.359528          0.051015            0.317354  \n",
      "BuGir_MAD                 0.257792          0.169019            0.258827  \n",
      "StrW_max                  0.389929          0.053993            0.235397  \n",
      "100                          Parameter  Pearson Correlation  Pearson p-value  \\\n",
      "Parameter                                                                  \n",
      "StrHD_skew              StrHD_skew            -0.390736         0.167170   \n",
      "BuSWA_3D_nunique  BuSWA_3D_nunique            -0.018537         0.918448   \n",
      "StrW_median            StrW_median             0.126130         0.539235   \n",
      "\n",
      "                  Spearman Correlation  Spearman p-value  Mutual Information  \n",
      "Parameter                                                                     \n",
      "StrHD_skew                   -0.349177          0.221077            0.317971  \n",
      "BuSWA_3D_nunique             -0.079234          0.661167            0.286528  \n",
      "StrW_median                   0.214885          0.291796            0.263522  \n",
      "120                  Parameter  Pearson Correlation  Pearson p-value  \\\n",
      "Parameter                                                          \n",
      "StrDeg_skew    StrDeg_skew            -0.518294         0.084296   \n",
      "StrW_max          StrW_max             0.266245         0.179478   \n",
      "BuSpi_3D_std  BuSpi_3D_std             0.403018         0.024576   \n",
      "\n",
      "              Spearman Correlation  Spearman p-value  Mutual Information  \n",
      "Parameter                                                                 \n",
      "StrDeg_skew              -0.357828          0.253449            0.564024  \n",
      "StrW_max                  0.410119          0.033613            0.367003  \n",
      "BuSpi_3D_std              0.428687          0.016119            0.326345  \n",
      "140                        Parameter  Pearson Correlation  Pearson p-value  \\\n",
      "Parameter                                                                \n",
      "BuSpi_3D_std        BuSpi_3D_std             0.389298         0.025137   \n",
      "BuCCD_mean_skew  BuCCD_mean_skew             0.114798         0.504972   \n",
      "StrHD_skew            StrHD_skew            -0.366344         0.197645   \n",
      "\n",
      "                 Spearman Correlation  Spearman p-value  Mutual Information  \n",
      "Parameter                                                                    \n",
      "BuSpi_3D_std                 0.368333          0.034934            0.555870  \n",
      "BuCCD_mean_skew              0.125789          0.464775            0.395684  \n",
      "StrHD_skew                  -0.655636          0.010906            0.307991  \n",
      "160              Parameter  Pearson Correlation  Pearson p-value  \\\n",
      "Parameter                                                      \n",
      "BpM_median  BpM_median            -0.279205         0.142436   \n",
      "BuAre_skew  BuAre_skew             0.071804         0.677295   \n",
      "BuSqu_IQR    BuSqu_IQR             0.119017         0.523671   \n",
      "\n",
      "            Spearman Correlation  Spearman p-value  Mutual Information  \n",
      "Parameter                                                               \n",
      "BpM_median             -0.204831          0.286477            0.356277  \n",
      "BuAre_skew              0.077507          0.653209            0.349827  \n",
      "BuSqu_IQR               0.276579          0.132016            0.283206  \n",
      "180              Parameter  Pearson Correlation  Pearson p-value  \\\n",
      "Parameter                                                      \n",
      "BuCor_mean  BuCor_mean             0.107102         0.534121   \n",
      "StrH_min      StrH_min            -0.322982         0.087460   \n",
      "BuIBD            BuIBD            -0.170631         0.319748   \n",
      "\n",
      "            Spearman Correlation  Spearman p-value  Mutual Information  \n",
      "Parameter                                                               \n",
      "BuCor_mean              0.166474          0.331855            0.357453  \n",
      "StrH_min               -0.387479          0.037823            0.276187  \n",
      "BuIBD                  -0.003090          0.985730            0.270950  \n",
      "200                          Parameter  Pearson Correlation  Pearson p-value  \\\n",
      "Parameter                                                                  \n",
      "BuCor_mean              BuCor_mean             0.067280         0.692362   \n",
      "BuSurf_3D_median  BuSurf_3D_median            -0.175955         0.319539   \n",
      "CyInd_skew              CyInd_skew            -0.821343         0.045026   \n",
      "\n",
      "                  Spearman Correlation  Spearman p-value  Mutual Information  \n",
      "Parameter                                                                     \n",
      "BuCor_mean                    0.128787          0.447453            0.327747  \n",
      "BuSurf_3D_median             -0.083840          0.637346            0.287867  \n",
      "CyInd_skew                   -0.600000          0.208000            0.283333  \n",
      "250              Parameter  Pearson Correlation  Pearson p-value  \\\n",
      "Parameter                                                      \n",
      "BuGir_MAD    BuGir_MAD             0.173148         0.387762   \n",
      "BuSqu_MAD    BuSqu_MAD             0.122869         0.541495   \n",
      "BuPerC_MAD  BuPerC_MAD             0.122869         0.541495   \n",
      "\n",
      "            Spearman Correlation  Spearman p-value  Mutual Information  \n",
      "Parameter                                                               \n",
      "BuGir_MAD               0.258094          0.193673            0.387692  \n",
      "BuSqu_MAD               0.231216          0.245890            0.319487  \n",
      "BuPerC_MAD              0.231216          0.245890            0.319487  \n",
      "300                    Parameter  Pearson Correlation  Pearson p-value  \\\n",
      "Parameter                                                            \n",
      "StrHD_std          StrHD_std             0.219770         0.219111   \n",
      "BuDisp_3D_IQR  BuDisp_3D_IQR             0.493215         0.016782   \n",
      "BuGir_IQR          BuGir_IQR             0.603794         0.002283   \n",
      "\n",
      "               Spearman Correlation  Spearman p-value  Mutual Information  \n",
      "Parameter                                                                  \n",
      "StrHD_std                  0.074904          0.678668            0.389050  \n",
      "BuDisp_3D_IQR              0.524234          0.010234            0.358721  \n",
      "BuGir_IQR                  0.583581          0.003464            0.347279  \n",
      "400                  Parameter  Pearson Correlation  Pearson p-value  \\\n",
      "Parameter                                                          \n",
      "CyInd_skew      CyInd_skew             0.057460         0.809849   \n",
      "BuSWA_3D_IQR  BuSWA_3D_IQR            -0.183390         0.426194   \n",
      "BuDep_IQR        BuDep_IQR             0.499609         0.021108   \n",
      "\n",
      "              Spearman Correlation  Spearman p-value  Mutual Information  \n",
      "Parameter                                                                 \n",
      "CyInd_skew               -0.135440          0.569125            0.371687  \n",
      "BuSWA_3D_IQR             -0.333659          0.139372            0.364818  \n",
      "BuDep_IQR                 0.497400          0.021777            0.293393  \n",
      "500                  Parameter  Pearson Correlation  Pearson p-value  \\\n",
      "Parameter                                                          \n",
      "BuGir_skew      BuGir_skew             0.669640         0.012288   \n",
      "BuFF_3D_sum    BuFF_3D_sum             0.223875         0.170664   \n",
      "BuFra_3D_max  BuFra_3D_max             0.119196         0.488678   \n",
      "\n",
      "              Spearman Correlation  Spearman p-value  Mutual Information  \n",
      "Parameter                                                                 \n",
      "BuGir_skew                0.665750          0.012995            0.329554  \n",
      "BuFF_3D_sum               0.200111          0.221921            0.290876  \n",
      "BuFra_3D_max             -0.069676          0.686364            0.286246  \n",
      "750                  Parameter  Pearson Correlation  Pearson p-value  \\\n",
      "Parameter                                                          \n",
      "BuSqC_mode      BuSqC_mode            -0.663942         0.000002   \n",
      "BuEPI_3D_min  BuEPI_3D_min            -0.496781         0.001511   \n",
      "BuFF_MAD          BuFF_MAD             0.831563         0.020379   \n",
      "\n",
      "              Spearman Correlation  Spearman p-value  Mutual Information  \n",
      "Parameter                                                                 \n",
      "BuSqC_mode               -0.372929          0.016332            0.399079  \n",
      "BuEPI_3D_min             -0.010298          0.951071            0.368068  \n",
      "BuFF_MAD                  0.714286          0.071344            0.354762  \n"
     ]
    }
   ],
   "source": [
    "top_params = []\n",
    "for i in radii[1:]:\n",
    "    print(i,stats_dict[i].sort_values(by='Mutual Information', ascending=False).head(3))\n",
    "    st = stats_dict[i].sort_values(by='Mutual Information', ascending=False).head(2)\n",
    "    top_params.append(st['Parameter'].to_list()[0])"
   ]
  },
  {
   "cell_type": "code",
   "execution_count": 47,
   "metadata": {},
   "outputs": [],
   "source": [
    "# extract mutual information of all top_params for all radii in stats_dict\n",
    "mi_dict = {}\n",
    "for i in radii[1:]:\n",
    "    mi_dict[i] = stats_dict[i].loc[stats_dict[i]['Parameter'].isin(top_params)]['Mutual Information']\n",
    "    "
   ]
  },
  {
   "cell_type": "markdown",
   "metadata": {},
   "source": [
    "# Daytime"
   ]
  },
  {
   "cell_type": "code",
   "execution_count": 51,
   "metadata": {},
   "outputs": [
    {
     "data": {
      "application/vnd.plotly.v1+json": {
       "config": {
        "plotlyServerURL": "https://plot.ly"
       },
       "data": [
        {
         "mode": "lines",
         "name": "BuProx_min",
         "type": "scatter",
         "x": [
          20,
          30,
          40,
          50,
          60,
          70,
          80,
          90,
          100,
          120,
          140,
          160,
          180,
          200,
          250,
          300,
          400,
          500,
          750
         ],
         "y": [
          2.220446049250313e-16,
          0.13183604589854614,
          0,
          0.03744319032547594,
          0,
          0,
          0,
          0.047540402022050454,
          0.046089185902753904,
          0,
          0,
          0.06505125864495342,
          0.0187902142234444,
          0.048926371700670046,
          0.005594895081784568,
          0,
          0.037425306982876716,
          0.0826682231312188,
          0.00838102039119848
         ]
        },
        {
         "mode": "lines",
         "name": "BuPer_IQR",
         "type": "scatter",
         "x": [
          20,
          30,
          40,
          50,
          60,
          70,
          80,
          90,
          100,
          120,
          140,
          160,
          180,
          200,
          250,
          300,
          400,
          500,
          750
         ],
         "y": [
          0,
          0.4799098470973475,
          0.055720495749521204,
          0.11623789045043575,
          0.02319836567016509,
          0,
          0,
          0.05805409798119188,
          0,
          0.10090513286379998,
          0.10909350525872474,
          0,
          0,
          0,
          0,
          0,
          0.0438539670736251,
          0,
          0.041308408178014844
         ]
        },
        {
         "mode": "lines",
         "name": "BuOri_skew",
         "type": "scatter",
         "x": [
          20,
          30,
          40,
          50,
          60,
          70,
          80,
          90,
          100,
          120,
          140,
          160,
          180,
          200,
          250,
          300,
          400,
          500,
          750
         ],
         "y": [
          0,
          0,
          0.44964856114817486,
          0.06049987672208346,
          0.011682060352390167,
          0,
          0,
          0.08310722825051053,
          0,
          0,
          0,
          0.03255400802670794,
          0.11500571856422015,
          0.07265231976587083,
          0.18915898127893582,
          0.05231511562173319,
          0,
          0,
          0
         ]
        },
        {
         "mode": "lines",
         "name": "BuFD_min",
         "type": "scatter",
         "x": [
          20,
          30,
          40,
          50,
          60,
          70,
          80,
          90,
          100,
          120,
          140,
          160,
          180,
          200,
          250,
          300,
          400,
          500,
          750
         ],
         "y": [
          0,
          0.046720120157620615,
          0.0049972015858237295,
          0.3910742256128583,
          0.21061155138366017,
          0.0544639613107174,
          0.19289881111984886,
          0.025806142090669226,
          0.06917145127083124,
          0,
          0,
          0,
          0,
          0,
          0,
          0,
          0,
          0,
          0.14347696952419664
         ]
        },
        {
         "mode": "lines",
         "name": "BuFF_MAD",
         "type": "scatter",
         "x": [
          20,
          30,
          40,
          50,
          60,
          70,
          80,
          90,
          100,
          120,
          140,
          160,
          180,
          200,
          250,
          300,
          400,
          500,
          750
         ],
         "y": [
          0,
          0,
          0.04838338841241341,
          0,
          0.4466162460354135,
          0.01486687855849178,
          0,
          0.004468528186418741,
          0,
          0,
          0,
          0,
          0,
          0,
          0,
          0,
          0,
          0,
          0.35476190476190483
         ]
        },
        {
         "mode": "lines",
         "name": "BuSpi_3D_max",
         "type": "scatter",
         "x": [
          20,
          30,
          40,
          50,
          60,
          70,
          80,
          90,
          100,
          120,
          140,
          160,
          180,
          200,
          250,
          300,
          400,
          500,
          750
         ],
         "y": [
          2.220446049250313e-16,
          0,
          0.05202935952935972,
          0.0635254326296193,
          0.3238184912184776,
          0.34075743356423027,
          0.2137968398732899,
          0.14631386844208638,
          0.04937576417119116,
          0,
          0.04245521798319318,
          0,
          0.09787604644146075,
          0.0749100676638692,
          0.054864902229943,
          0.10466991102257905,
          0.12789946248010642,
          0.20994230883174225,
          0.09418855038799823
         ]
        },
        {
         "mode": "lines",
         "name": "StrDeg_std",
         "type": "scatter",
         "x": [
          20,
          30,
          40,
          50,
          60,
          70,
          80,
          90,
          100,
          120,
          140,
          160,
          180,
          200,
          250,
          300,
          400,
          500,
          750
         ],
         "y": [
          null,
          null,
          null,
          null,
          2.220446049250313e-16,
          0.31944444444444486,
          0.3420634920634926,
          0.19276094276094358,
          0.17154274297131522,
          0,
          0,
          0,
          0,
          0,
          0,
          0,
          0.024190165549577536,
          0,
          0.09115889118071019
         ]
        },
        {
         "mode": "lines",
         "name": "BuSpi_3D_std",
         "type": "scatter",
         "x": [
          20,
          30,
          40,
          50,
          60,
          70,
          80,
          90,
          100,
          120,
          140,
          160,
          180,
          200,
          250,
          300,
          400,
          500,
          750
         ],
         "y": [
          0,
          0,
          0,
          0.040828134323068976,
          0.1421884752338045,
          0.04952378909689603,
          0.3234602861176845,
          0.3173538382870986,
          0.20894020127052038,
          0.32634486730969225,
          0.5558701597056581,
          0.08338688550154849,
          0.009812518594541686,
          0,
          0,
          0,
          0,
          0,
          0
         ]
        },
        {
         "mode": "lines",
         "name": "StrHD_skew",
         "type": "scatter",
         "x": [
          20,
          30,
          40,
          50,
          60,
          70,
          80,
          90,
          100,
          120,
          140,
          160,
          180,
          200,
          250,
          300,
          400,
          500,
          750
         ],
         "y": [
          null,
          null,
          null,
          null,
          null,
          0,
          0,
          0,
          0.31797131439988524,
          0,
          0.30799141334855595,
          0.1251065601065604,
          0.11745853352996205,
          0.12967310467310456,
          0.00694444444444442,
          0.18439153439153455,
          0,
          null,
          null
         ]
        },
        {
         "mode": "lines",
         "name": "StrDeg_skew",
         "type": "scatter",
         "x": [
          20,
          30,
          40,
          50,
          60,
          70,
          80,
          90,
          100,
          120,
          140,
          160,
          180,
          200,
          250,
          300,
          400,
          500,
          750
         ],
         "y": [
          null,
          null,
          null,
          null,
          null,
          2.220446049250313e-16,
          0.11111111111111116,
          0.12328042328042321,
          0.16005291005291022,
          0.5640241702741713,
          0,
          0.16731030388824308,
          0,
          0,
          0,
          0.10021910047489735,
          0,
          0,
          0.08505337237563548
         ]
        },
        {
         "mode": "lines",
         "name": "BuSpi_3D_std",
         "type": "scatter",
         "x": [
          20,
          30,
          40,
          50,
          60,
          70,
          80,
          90,
          100,
          120,
          140,
          160,
          180,
          200,
          250,
          300,
          400,
          500,
          750
         ],
         "y": [
          0,
          0,
          0,
          0.040828134323068976,
          0.1421884752338045,
          0.04952378909689603,
          0.3234602861176845,
          0.3173538382870986,
          0.20894020127052038,
          0.32634486730969225,
          0.5558701597056581,
          0.08338688550154849,
          0.009812518594541686,
          0,
          0,
          0,
          0,
          0,
          0
         ]
        },
        {
         "mode": "lines",
         "name": "BpM_median",
         "type": "scatter",
         "x": [
          20,
          30,
          40,
          50,
          60,
          70,
          80,
          90,
          100,
          120,
          140,
          160,
          180,
          200,
          250,
          300,
          400,
          500,
          750
         ],
         "y": [
          null,
          null,
          0,
          0,
          0,
          0.010138647042671423,
          0,
          0.057778357573686545,
          0.002635069238090537,
          0.006335157346172515,
          0.07710117493125379,
          0.356276593655088,
          0.20572907452771405,
          0.05096183704215651,
          0.01180571933527963,
          0.07030436611255952,
          0.14953981609104305,
          0.03285038728397183,
          0.042910724555757174
         ]
        },
        {
         "mode": "lines",
         "name": "BuCor_mean",
         "type": "scatter",
         "x": [
          20,
          30,
          40,
          50,
          60,
          70,
          80,
          90,
          100,
          120,
          140,
          160,
          180,
          200,
          250,
          300,
          400,
          500,
          750
         ],
         "y": [
          0,
          0,
          0,
          0.035414783949244466,
          0,
          0,
          0.1902761372929893,
          0.18616703662422873,
          0.17585964304653512,
          0.08527039577013973,
          0.08512659880581142,
          0.2663497962482464,
          0.3574534428214484,
          0.3277472213495316,
          0.17780767645892492,
          0.06737678046127904,
          0.13455907690903857,
          0.08905182948251289,
          0.006914376489176366
         ]
        },
        {
         "mode": "lines",
         "name": "BuCor_mean",
         "type": "scatter",
         "x": [
          20,
          30,
          40,
          50,
          60,
          70,
          80,
          90,
          100,
          120,
          140,
          160,
          180,
          200,
          250,
          300,
          400,
          500,
          750
         ],
         "y": [
          0,
          0,
          0,
          0.035414783949244466,
          0,
          0,
          0.1902761372929893,
          0.18616703662422873,
          0.17585964304653512,
          0.08527039577013973,
          0.08512659880581142,
          0.2663497962482464,
          0.3574534428214484,
          0.3277472213495316,
          0.17780767645892492,
          0.06737678046127904,
          0.13455907690903857,
          0.08905182948251289,
          0.006914376489176366
         ]
        },
        {
         "mode": "lines",
         "name": "BuGir_MAD",
         "type": "scatter",
         "x": [
          20,
          30,
          40,
          50,
          60,
          70,
          80,
          90,
          100,
          120,
          140,
          160,
          180,
          200,
          250,
          300,
          400,
          500,
          750
         ],
         "y": [
          0,
          0,
          0,
          0,
          0.14114506986858588,
          0.2792780882956394,
          0.25478393278642564,
          0.25882675772890984,
          0,
          0.07340880218386836,
          0.027724658984256134,
          0.05967850638026828,
          0,
          0.02719244405549537,
          0.38769220504308977,
          0.26361000092323317,
          0.20529255398229385,
          0.16560384060384115,
          0.31111111111111134
         ]
        },
        {
         "mode": "lines",
         "name": "StrHD_std",
         "type": "scatter",
         "x": [
          20,
          30,
          40,
          50,
          60,
          70,
          80,
          90,
          100,
          120,
          140,
          160,
          180,
          200,
          250,
          300,
          400,
          500,
          750
         ],
         "y": [
          null,
          null,
          null,
          null,
          null,
          0,
          0,
          0,
          0,
          0,
          0,
          0,
          0,
          0.02549495414644687,
          0.02874368826054008,
          0.38904993051911907,
          0.14726652077272018,
          0.03790261061319011,
          0
         ]
        },
        {
         "mode": "lines",
         "name": "CyInd_skew",
         "type": "scatter",
         "x": [
          20,
          30,
          40,
          50,
          60,
          70,
          80,
          90,
          100,
          120,
          140,
          160,
          180,
          200,
          250,
          300,
          400,
          500,
          750
         ],
         "y": [
          null,
          null,
          null,
          null,
          null,
          null,
          null,
          null,
          null,
          null,
          0,
          0.08333333333333348,
          0.14444444444444504,
          0.28333333333333344,
          0,
          0.2663936757686758,
          0.37168695984098465,
          0,
          0.12279044014132445
         ]
        },
        {
         "mode": "lines",
         "name": "BuGir_skew",
         "type": "scatter",
         "x": [
          20,
          30,
          40,
          50,
          60,
          70,
          80,
          90,
          100,
          120,
          140,
          160,
          180,
          200,
          250,
          300,
          400,
          500,
          750
         ],
         "y": [
          0,
          0,
          0,
          0,
          0,
          0,
          0.13670099313917872,
          0.17640057886527982,
          0,
          0,
          0,
          0,
          0.02922852010036081,
          0,
          0.010800867066738995,
          0.03096426082283177,
          0.17126071280759514,
          0.3295537795537806,
          0.18333333333333335
         ]
        },
        {
         "mode": "lines",
         "name": "BuSqC_mode",
         "type": "scatter",
         "x": [
          20,
          30,
          40,
          50,
          60,
          70,
          80,
          90,
          100,
          120,
          140,
          160,
          180,
          200,
          250,
          300,
          400,
          500,
          750
         ],
         "y": [
          0,
          0.042063318625819024,
          0,
          0.06558437281448493,
          0.052098703894032816,
          0.014735264141163995,
          0.1604627523560347,
          0.058440231437826284,
          0.05539000702160912,
          0,
          0,
          0,
          0,
          0.007392166471396955,
          0,
          0.028054826823415535,
          0.052772144712323055,
          0.12960085301298063,
          0.39907944204847956
         ]
        }
       ],
       "layout": {
        "font": {
         "color": "RebeccaPurple",
         "family": "Courier New, monospace",
         "size": 18
        },
        "template": {
         "data": {
          "bar": [
           {
            "error_x": {
             "color": "#2a3f5f"
            },
            "error_y": {
             "color": "#2a3f5f"
            },
            "marker": {
             "line": {
              "color": "#E5ECF6",
              "width": 0.5
             },
             "pattern": {
              "fillmode": "overlay",
              "size": 10,
              "solidity": 0.2
             }
            },
            "type": "bar"
           }
          ],
          "barpolar": [
           {
            "marker": {
             "line": {
              "color": "#E5ECF6",
              "width": 0.5
             },
             "pattern": {
              "fillmode": "overlay",
              "size": 10,
              "solidity": 0.2
             }
            },
            "type": "barpolar"
           }
          ],
          "carpet": [
           {
            "aaxis": {
             "endlinecolor": "#2a3f5f",
             "gridcolor": "white",
             "linecolor": "white",
             "minorgridcolor": "white",
             "startlinecolor": "#2a3f5f"
            },
            "baxis": {
             "endlinecolor": "#2a3f5f",
             "gridcolor": "white",
             "linecolor": "white",
             "minorgridcolor": "white",
             "startlinecolor": "#2a3f5f"
            },
            "type": "carpet"
           }
          ],
          "choropleth": [
           {
            "colorbar": {
             "outlinewidth": 0,
             "ticks": ""
            },
            "type": "choropleth"
           }
          ],
          "contour": [
           {
            "colorbar": {
             "outlinewidth": 0,
             "ticks": ""
            },
            "colorscale": [
             [
              0,
              "#0d0887"
             ],
             [
              0.1111111111111111,
              "#46039f"
             ],
             [
              0.2222222222222222,
              "#7201a8"
             ],
             [
              0.3333333333333333,
              "#9c179e"
             ],
             [
              0.4444444444444444,
              "#bd3786"
             ],
             [
              0.5555555555555556,
              "#d8576b"
             ],
             [
              0.6666666666666666,
              "#ed7953"
             ],
             [
              0.7777777777777778,
              "#fb9f3a"
             ],
             [
              0.8888888888888888,
              "#fdca26"
             ],
             [
              1,
              "#f0f921"
             ]
            ],
            "type": "contour"
           }
          ],
          "contourcarpet": [
           {
            "colorbar": {
             "outlinewidth": 0,
             "ticks": ""
            },
            "type": "contourcarpet"
           }
          ],
          "heatmap": [
           {
            "colorbar": {
             "outlinewidth": 0,
             "ticks": ""
            },
            "colorscale": [
             [
              0,
              "#0d0887"
             ],
             [
              0.1111111111111111,
              "#46039f"
             ],
             [
              0.2222222222222222,
              "#7201a8"
             ],
             [
              0.3333333333333333,
              "#9c179e"
             ],
             [
              0.4444444444444444,
              "#bd3786"
             ],
             [
              0.5555555555555556,
              "#d8576b"
             ],
             [
              0.6666666666666666,
              "#ed7953"
             ],
             [
              0.7777777777777778,
              "#fb9f3a"
             ],
             [
              0.8888888888888888,
              "#fdca26"
             ],
             [
              1,
              "#f0f921"
             ]
            ],
            "type": "heatmap"
           }
          ],
          "heatmapgl": [
           {
            "colorbar": {
             "outlinewidth": 0,
             "ticks": ""
            },
            "colorscale": [
             [
              0,
              "#0d0887"
             ],
             [
              0.1111111111111111,
              "#46039f"
             ],
             [
              0.2222222222222222,
              "#7201a8"
             ],
             [
              0.3333333333333333,
              "#9c179e"
             ],
             [
              0.4444444444444444,
              "#bd3786"
             ],
             [
              0.5555555555555556,
              "#d8576b"
             ],
             [
              0.6666666666666666,
              "#ed7953"
             ],
             [
              0.7777777777777778,
              "#fb9f3a"
             ],
             [
              0.8888888888888888,
              "#fdca26"
             ],
             [
              1,
              "#f0f921"
             ]
            ],
            "type": "heatmapgl"
           }
          ],
          "histogram": [
           {
            "marker": {
             "pattern": {
              "fillmode": "overlay",
              "size": 10,
              "solidity": 0.2
             }
            },
            "type": "histogram"
           }
          ],
          "histogram2d": [
           {
            "colorbar": {
             "outlinewidth": 0,
             "ticks": ""
            },
            "colorscale": [
             [
              0,
              "#0d0887"
             ],
             [
              0.1111111111111111,
              "#46039f"
             ],
             [
              0.2222222222222222,
              "#7201a8"
             ],
             [
              0.3333333333333333,
              "#9c179e"
             ],
             [
              0.4444444444444444,
              "#bd3786"
             ],
             [
              0.5555555555555556,
              "#d8576b"
             ],
             [
              0.6666666666666666,
              "#ed7953"
             ],
             [
              0.7777777777777778,
              "#fb9f3a"
             ],
             [
              0.8888888888888888,
              "#fdca26"
             ],
             [
              1,
              "#f0f921"
             ]
            ],
            "type": "histogram2d"
           }
          ],
          "histogram2dcontour": [
           {
            "colorbar": {
             "outlinewidth": 0,
             "ticks": ""
            },
            "colorscale": [
             [
              0,
              "#0d0887"
             ],
             [
              0.1111111111111111,
              "#46039f"
             ],
             [
              0.2222222222222222,
              "#7201a8"
             ],
             [
              0.3333333333333333,
              "#9c179e"
             ],
             [
              0.4444444444444444,
              "#bd3786"
             ],
             [
              0.5555555555555556,
              "#d8576b"
             ],
             [
              0.6666666666666666,
              "#ed7953"
             ],
             [
              0.7777777777777778,
              "#fb9f3a"
             ],
             [
              0.8888888888888888,
              "#fdca26"
             ],
             [
              1,
              "#f0f921"
             ]
            ],
            "type": "histogram2dcontour"
           }
          ],
          "mesh3d": [
           {
            "colorbar": {
             "outlinewidth": 0,
             "ticks": ""
            },
            "type": "mesh3d"
           }
          ],
          "parcoords": [
           {
            "line": {
             "colorbar": {
              "outlinewidth": 0,
              "ticks": ""
             }
            },
            "type": "parcoords"
           }
          ],
          "pie": [
           {
            "automargin": true,
            "type": "pie"
           }
          ],
          "scatter": [
           {
            "fillpattern": {
             "fillmode": "overlay",
             "size": 10,
             "solidity": 0.2
            },
            "type": "scatter"
           }
          ],
          "scatter3d": [
           {
            "line": {
             "colorbar": {
              "outlinewidth": 0,
              "ticks": ""
             }
            },
            "marker": {
             "colorbar": {
              "outlinewidth": 0,
              "ticks": ""
             }
            },
            "type": "scatter3d"
           }
          ],
          "scattercarpet": [
           {
            "marker": {
             "colorbar": {
              "outlinewidth": 0,
              "ticks": ""
             }
            },
            "type": "scattercarpet"
           }
          ],
          "scattergeo": [
           {
            "marker": {
             "colorbar": {
              "outlinewidth": 0,
              "ticks": ""
             }
            },
            "type": "scattergeo"
           }
          ],
          "scattergl": [
           {
            "marker": {
             "colorbar": {
              "outlinewidth": 0,
              "ticks": ""
             }
            },
            "type": "scattergl"
           }
          ],
          "scattermapbox": [
           {
            "marker": {
             "colorbar": {
              "outlinewidth": 0,
              "ticks": ""
             }
            },
            "type": "scattermapbox"
           }
          ],
          "scatterpolar": [
           {
            "marker": {
             "colorbar": {
              "outlinewidth": 0,
              "ticks": ""
             }
            },
            "type": "scatterpolar"
           }
          ],
          "scatterpolargl": [
           {
            "marker": {
             "colorbar": {
              "outlinewidth": 0,
              "ticks": ""
             }
            },
            "type": "scatterpolargl"
           }
          ],
          "scatterternary": [
           {
            "marker": {
             "colorbar": {
              "outlinewidth": 0,
              "ticks": ""
             }
            },
            "type": "scatterternary"
           }
          ],
          "surface": [
           {
            "colorbar": {
             "outlinewidth": 0,
             "ticks": ""
            },
            "colorscale": [
             [
              0,
              "#0d0887"
             ],
             [
              0.1111111111111111,
              "#46039f"
             ],
             [
              0.2222222222222222,
              "#7201a8"
             ],
             [
              0.3333333333333333,
              "#9c179e"
             ],
             [
              0.4444444444444444,
              "#bd3786"
             ],
             [
              0.5555555555555556,
              "#d8576b"
             ],
             [
              0.6666666666666666,
              "#ed7953"
             ],
             [
              0.7777777777777778,
              "#fb9f3a"
             ],
             [
              0.8888888888888888,
              "#fdca26"
             ],
             [
              1,
              "#f0f921"
             ]
            ],
            "type": "surface"
           }
          ],
          "table": [
           {
            "cells": {
             "fill": {
              "color": "#EBF0F8"
             },
             "line": {
              "color": "white"
             }
            },
            "header": {
             "fill": {
              "color": "#C8D4E3"
             },
             "line": {
              "color": "white"
             }
            },
            "type": "table"
           }
          ]
         },
         "layout": {
          "annotationdefaults": {
           "arrowcolor": "#2a3f5f",
           "arrowhead": 0,
           "arrowwidth": 1
          },
          "autotypenumbers": "strict",
          "coloraxis": {
           "colorbar": {
            "outlinewidth": 0,
            "ticks": ""
           }
          },
          "colorscale": {
           "diverging": [
            [
             0,
             "#8e0152"
            ],
            [
             0.1,
             "#c51b7d"
            ],
            [
             0.2,
             "#de77ae"
            ],
            [
             0.3,
             "#f1b6da"
            ],
            [
             0.4,
             "#fde0ef"
            ],
            [
             0.5,
             "#f7f7f7"
            ],
            [
             0.6,
             "#e6f5d0"
            ],
            [
             0.7,
             "#b8e186"
            ],
            [
             0.8,
             "#7fbc41"
            ],
            [
             0.9,
             "#4d9221"
            ],
            [
             1,
             "#276419"
            ]
           ],
           "sequential": [
            [
             0,
             "#0d0887"
            ],
            [
             0.1111111111111111,
             "#46039f"
            ],
            [
             0.2222222222222222,
             "#7201a8"
            ],
            [
             0.3333333333333333,
             "#9c179e"
            ],
            [
             0.4444444444444444,
             "#bd3786"
            ],
            [
             0.5555555555555556,
             "#d8576b"
            ],
            [
             0.6666666666666666,
             "#ed7953"
            ],
            [
             0.7777777777777778,
             "#fb9f3a"
            ],
            [
             0.8888888888888888,
             "#fdca26"
            ],
            [
             1,
             "#f0f921"
            ]
           ],
           "sequentialminus": [
            [
             0,
             "#0d0887"
            ],
            [
             0.1111111111111111,
             "#46039f"
            ],
            [
             0.2222222222222222,
             "#7201a8"
            ],
            [
             0.3333333333333333,
             "#9c179e"
            ],
            [
             0.4444444444444444,
             "#bd3786"
            ],
            [
             0.5555555555555556,
             "#d8576b"
            ],
            [
             0.6666666666666666,
             "#ed7953"
            ],
            [
             0.7777777777777778,
             "#fb9f3a"
            ],
            [
             0.8888888888888888,
             "#fdca26"
            ],
            [
             1,
             "#f0f921"
            ]
           ]
          },
          "colorway": [
           "#636efa",
           "#EF553B",
           "#00cc96",
           "#ab63fa",
           "#FFA15A",
           "#19d3f3",
           "#FF6692",
           "#B6E880",
           "#FF97FF",
           "#FECB52"
          ],
          "font": {
           "color": "#2a3f5f"
          },
          "geo": {
           "bgcolor": "white",
           "lakecolor": "white",
           "landcolor": "#E5ECF6",
           "showlakes": true,
           "showland": true,
           "subunitcolor": "white"
          },
          "hoverlabel": {
           "align": "left"
          },
          "hovermode": "closest",
          "mapbox": {
           "style": "light"
          },
          "paper_bgcolor": "white",
          "plot_bgcolor": "#E5ECF6",
          "polar": {
           "angularaxis": {
            "gridcolor": "white",
            "linecolor": "white",
            "ticks": ""
           },
           "bgcolor": "#E5ECF6",
           "radialaxis": {
            "gridcolor": "white",
            "linecolor": "white",
            "ticks": ""
           }
          },
          "scene": {
           "xaxis": {
            "backgroundcolor": "#E5ECF6",
            "gridcolor": "white",
            "gridwidth": 2,
            "linecolor": "white",
            "showbackground": true,
            "ticks": "",
            "zerolinecolor": "white"
           },
           "yaxis": {
            "backgroundcolor": "#E5ECF6",
            "gridcolor": "white",
            "gridwidth": 2,
            "linecolor": "white",
            "showbackground": true,
            "ticks": "",
            "zerolinecolor": "white"
           },
           "zaxis": {
            "backgroundcolor": "#E5ECF6",
            "gridcolor": "white",
            "gridwidth": 2,
            "linecolor": "white",
            "showbackground": true,
            "ticks": "",
            "zerolinecolor": "white"
           }
          },
          "shapedefaults": {
           "line": {
            "color": "#2a3f5f"
           }
          },
          "ternary": {
           "aaxis": {
            "gridcolor": "white",
            "linecolor": "white",
            "ticks": ""
           },
           "baxis": {
            "gridcolor": "white",
            "linecolor": "white",
            "ticks": ""
           },
           "bgcolor": "#E5ECF6",
           "caxis": {
            "gridcolor": "white",
            "linecolor": "white",
            "ticks": ""
           }
          },
          "title": {
           "x": 0.05
          },
          "xaxis": {
           "automargin": true,
           "gridcolor": "white",
           "linecolor": "white",
           "ticks": "",
           "title": {
            "standoff": 15
           },
           "zerolinecolor": "white",
           "zerolinewidth": 2
          },
          "yaxis": {
           "automargin": true,
           "gridcolor": "white",
           "linecolor": "white",
           "ticks": "",
           "title": {
            "standoff": 15
           },
           "zerolinecolor": "white",
           "zerolinewidth": 2
          }
         }
        },
        "title": {
         "text": "Mutual Information of top parameters against radii"
        },
        "xaxis": {
         "title": {
          "text": "Radii"
         }
        },
        "yaxis": {
         "title": {
          "text": "Mutual Information"
         }
        }
       }
      }
     },
     "metadata": {},
     "output_type": "display_data"
    }
   ],
   "source": [
    "# interactive plot\n",
    "import plotly.express as px\n",
    "import plotly.graph_objects as go\n",
    "\n",
    "fig = go.Figure()\n",
    "for i in top_params:\n",
    "    fig.add_trace(go.Scatter(x=list(mi_dict.keys()), y=[mi_dict[j][mi_dict[j].index==i].values[0] for j in mi_dict.keys()], mode='lines', name=i))\n",
    "\n",
    "\n",
    "fig.update_layout(\n",
    "    title=\"Mutual Information of top parameters against radii\",\n",
    "    xaxis_title=\"Radii\",\n",
    "    yaxis_title=\"Mutual Information\",\n",
    "    font=dict(\n",
    "        family=\"Courier New, monospace\",\n",
    "        size=18,\n",
    "        color=\"RebeccaPurple\"\n",
    "    )\n",
    ")\n",
    "\n",
    "fig.show()"
   ]
  },
  {
   "cell_type": "markdown",
   "metadata": {},
   "source": [
    "# Nighttime"
   ]
  },
  {
   "cell_type": "code",
   "execution_count": 37,
   "metadata": {},
   "outputs": [
    {
     "data": {
      "application/vnd.plotly.v1+json": {
       "config": {
        "plotlyServerURL": "https://plot.ly"
       },
       "data": [
        {
         "mode": "lines",
         "name": "BuVol_3D_max",
         "type": "scatter",
         "x": [
          30,
          40,
          50,
          60,
          70,
          80,
          90,
          100,
          120,
          140,
          160,
          180,
          200,
          250,
          300,
          400,
          500,
          750
         ],
         "y": [
          0.448313318625819,
          0.4885922767463024,
          0,
          0,
          0.1436164731913296,
          0.0742447842453013,
          0.1190080958096266,
          0.2223475493705407,
          0.2175962922728516,
          0.3523783976137824,
          0.3479866653644965,
          0.1342052165108183,
          0.1920800876134669,
          0.1968321468715066,
          0.1444935944090661,
          0.248459666225763,
          0.2348997761340103,
          0.3757882915746149
         ]
        },
        {
         "mode": "lines",
         "name": "BuVol_3D_median",
         "type": "scatter",
         "x": [
          30,
          40,
          50,
          60,
          70,
          80,
          90,
          100,
          120,
          140,
          160,
          180,
          200,
          250,
          300,
          400,
          500,
          750
         ],
         "y": [
          0.2017059329559334,
          0.5417612605402855,
          0.3477830183830321,
          0.2223255637215122,
          0.1902694860688987,
          0.1521029253775507,
          0.2037662351981521,
          0.2545470272609473,
          0.1202526326628516,
          0.3510796069408388,
          0.2959729437112355,
          0.3321106895813672,
          0.253354164020823,
          0.3220559751962182,
          0.1699302744678035,
          0.2586025820413873,
          0.2491331609266054,
          0.2149983542458093
         ]
        },
        {
         "mode": "lines",
         "name": "BuHt_max",
         "type": "scatter",
         "x": [
          30,
          40,
          50,
          60,
          70,
          80,
          90,
          100,
          120,
          140,
          160,
          180,
          200,
          250,
          300,
          400,
          500,
          750
         ],
         "y": [
          0.2673541736041738,
          0.3579066429356683,
          0.4565478779084249,
          0.3150198938152226,
          0.3875928628916198,
          0.2965348152621936,
          0.222188311731879,
          0.2587293765675666,
          0.3151730348114969,
          0.2472463024729201,
          0.3281625242982324,
          0.3831620848313901,
          0.2223989596341846,
          0.1150794138591133,
          0.1253395817118239,
          0.1966076459231969,
          0.3400018110435918,
          0.4048589918657068
         ]
        },
        {
         "mode": "lines",
         "name": "BuCCD_std_skew",
         "type": "scatter",
         "x": [
          30,
          40,
          50,
          60,
          70,
          80,
          90,
          100,
          120,
          140,
          160,
          180,
          200,
          250,
          300,
          400,
          500,
          750
         ],
         "y": [
          0.0682321151071159,
          0.0121036265076515,
          0.1026120574706277,
          0.4843491545026495,
          0.3169204162418442,
          0.0875495687911045,
          0,
          0.1533650421313894,
          0.1387793767670104,
          0.0892566048200955,
          0.1122606483267896,
          0.0715817849981208,
          0,
          0.075188172855634,
          0,
          0.1188969165972233,
          0.0765444136155881,
          0.1349079789655056
         ]
        },
        {
         "mode": "lines",
         "name": "BuSqu_mean",
         "type": "scatter",
         "x": [
          30,
          40,
          50,
          60,
          70,
          80,
          90,
          100,
          120,
          140,
          160,
          180,
          200,
          250,
          300,
          400,
          500,
          750
         ],
         "y": [
          0.0829604423354428,
          0.3162399762690011,
          0.0608249281640729,
          0.2552601618031687,
          0.6454013863973025,
          0.3901482057914882,
          0.2564647975441287,
          0.2990268546331531,
          0.1744373008872735,
          0.1668546483839108,
          0.0921947743153315,
          0.079864353825922,
          0.0303430290044608,
          0,
          0.1230663070323285,
          0.101687094839993,
          0,
          0.083641204292653
         ]
        },
        {
         "mode": "lines",
         "name": "BuSWR_mean",
         "type": "scatter",
         "x": [
          30,
          40,
          50,
          60,
          70,
          80,
          90,
          100,
          120,
          140,
          160,
          180,
          200,
          250,
          300,
          400,
          500,
          750
         ],
         "y": [
          0.078785450660451,
          0.0895099701639949,
          0.1872645042772251,
          0.4090621334813018,
          0.5835178235315968,
          0.4894959876392699,
          0.2259058661320798,
          0.3158325004110431,
          0.3009930309780686,
          0.2763379405541715,
          0.2498976872571148,
          0.3333116946439673,
          0.3675949222266452,
          0.3399461607822385,
          0.3110365574210392,
          0.4186537853474403,
          0.2623830275872407,
          0.2480812729720889
         ]
        },
        {
         "mode": "lines",
         "name": "BuElo_mean",
         "type": "scatter",
         "x": [
          30,
          40,
          50,
          60,
          70,
          80,
          90,
          100,
          120,
          140,
          160,
          180,
          200,
          250,
          300,
          400,
          500,
          750
         ],
         "y": [
          0,
          0.1565132446672694,
          0.0827575200707517,
          0.0665372326855027,
          0.2071116049363457,
          0.2219514163885581,
          0.4794314331916545,
          0.4941756943201911,
          0.2364934353711305,
          0.2322458310161645,
          0.3196139396304032,
          0.3317931204248525,
          0.3554149506366513,
          0.2239174290786048,
          0.1113955975458775,
          0.2448644025324324,
          0.0901315360203631,
          0.036299882871432
         ]
        },
        {
         "mode": "lines",
         "name": "BuElo_mean",
         "type": "scatter",
         "x": [
          30,
          40,
          50,
          60,
          70,
          80,
          90,
          100,
          120,
          140,
          160,
          180,
          200,
          250,
          300,
          400,
          500,
          750
         ],
         "y": [
          0,
          0.1565132446672694,
          0.0827575200707517,
          0.0665372326855027,
          0.2071116049363457,
          0.2219514163885581,
          0.4794314331916545,
          0.4941756943201911,
          0.2364934353711305,
          0.2322458310161645,
          0.3196139396304032,
          0.3317931204248525,
          0.3554149506366513,
          0.2239174290786048,
          0.1113955975458775,
          0.2448644025324324,
          0.0901315360203631,
          0.036299882871432
         ]
        },
        {
         "mode": "lines",
         "name": "StrOpe_mode",
         "type": "scatter",
         "x": [
          30,
          40,
          50,
          60,
          70,
          80,
          90,
          100,
          120,
          140,
          160,
          180,
          200,
          250,
          300,
          400,
          500,
          750
         ],
         "y": [
          null,
          0.0553571428571428,
          0.1886062350348067,
          0.1689890991361584,
          0.0358258764799008,
          0.0788710634788931,
          0.3010180459898455,
          0.4626731081222828,
          0.51026206215027,
          0.4207744653532486,
          0.1681025837223766,
          0.1905703474401405,
          0.0995729194464716,
          0.0319618681066242,
          0,
          0.1307107823579889,
          0.1157128210364992,
          0
         ]
        },
        {
         "mode": "lines",
         "name": "BuHt_median",
         "type": "scatter",
         "x": [
          30,
          40,
          50,
          60,
          70,
          80,
          90,
          100,
          120,
          140,
          160,
          180,
          200,
          250,
          300,
          400,
          500,
          750
         ],
         "y": [
          0.2419054903429907,
          0.393478779132804,
          0.2994362093837133,
          0.3014575509293504,
          0.3315653936288563,
          0.3277673497842019,
          0.2617694460286326,
          0.3830054869633179,
          0.2921813231849168,
          0.5445886820647663,
          0.341361252433594,
          0.3943045336522757,
          0.3722564750066235,
          0.3027376849731271,
          0.4225034865281443,
          0.4769080598052664,
          0.4498546733768802,
          0.2239408660608202
         ]
        },
        {
         "mode": "lines",
         "name": "StrH_max",
         "type": "scatter",
         "x": [
          30,
          40,
          50,
          60,
          70,
          80,
          90,
          100,
          120,
          140,
          160,
          180,
          200,
          250,
          300,
          400,
          500,
          750
         ],
         "y": [
          null,
          0.0803571428571432,
          0.1322853733568025,
          0.1557283402871643,
          0.2050085687875942,
          0.3070897028188557,
          0.3591243327199716,
          0.3090893584129677,
          0.3714976169467925,
          0.3643876913615915,
          0.5445421257340068,
          0.4617436981079934,
          0.3360498508801701,
          0.3593111873660188,
          0.3176382602404797,
          0.3238370163094788,
          0.2024194575720521,
          0.4445589537710577
         ]
        },
        {
         "mode": "lines",
         "name": "BuSWA_3D_median",
         "type": "scatter",
         "x": [
          30,
          40,
          50,
          60,
          70,
          80,
          90,
          100,
          120,
          140,
          160,
          180,
          200,
          250,
          300,
          400,
          500,
          750
         ],
         "y": [
          0.0216982670107674,
          0.0429934311474562,
          0.1369313097052369,
          0.2456402816832885,
          0.3849107694739559,
          0.1887877645546165,
          0.303263363901519,
          0.3539544415621267,
          0.4501253840795769,
          0.4546678810969626,
          0.4900573201804632,
          0.5672999849231279,
          0.5826141728643217,
          0.6194290491644912,
          0.4608680869928481,
          0.412172195466074,
          0.4304526033298148,
          0.321194401569
         ]
        },
        {
         "mode": "lines",
         "name": "BuSWA_3D_median",
         "type": "scatter",
         "x": [
          30,
          40,
          50,
          60,
          70,
          80,
          90,
          100,
          120,
          140,
          160,
          180,
          200,
          250,
          300,
          400,
          500,
          750
         ],
         "y": [
          0.0216982670107674,
          0.0429934311474562,
          0.1369313097052369,
          0.2456402816832885,
          0.3849107694739559,
          0.1887877645546165,
          0.303263363901519,
          0.3539544415621267,
          0.4501253840795769,
          0.4546678810969626,
          0.4900573201804632,
          0.5672999849231279,
          0.5826141728643217,
          0.6194290491644912,
          0.4608680869928481,
          0.412172195466074,
          0.4304526033298148,
          0.321194401569
         ]
        },
        {
         "mode": "lines",
         "name": "BuSA_3D_sum",
         "type": "scatter",
         "x": [
          30,
          40,
          50,
          60,
          70,
          80,
          90,
          100,
          120,
          140,
          160,
          180,
          200,
          250,
          300,
          400,
          500,
          750
         ],
         "y": [
          0.1444428835053839,
          0.0808849636345767,
          0.0726983763159558,
          0.1191356114309403,
          0.270992796291553,
          0.2354597791871575,
          0.2319982887054803,
          0.3143727713323905,
          0.2806196276171806,
          0.3381266637322042,
          0.2965597742615475,
          0.3515568434452776,
          0.4292988822618782,
          0.6498521100668262,
          0.546824637126105,
          0.6268672212533826,
          0.5990196130211585,
          0.446058166242353
         ]
        },
        {
         "mode": "lines",
         "name": "BuSWA_3D_mean",
         "type": "scatter",
         "x": [
          30,
          40,
          50,
          60,
          70,
          80,
          90,
          100,
          120,
          140,
          160,
          180,
          200,
          250,
          300,
          400,
          500,
          750
         ],
         "y": [
          0.0645080613830617,
          0.083792334041947,
          0.1826739728392046,
          0.2207074326266005,
          0.3930374846122257,
          0.268322026588879,
          0.2608341513871666,
          0.3223028809070938,
          0.4235671981870361,
          0.4786729793838986,
          0.4436911615816838,
          0.4879074498487747,
          0.492070076437872,
          0.590717392007456,
          0.6886785951503638,
          0.7142955464252094,
          0.608860240989904,
          0.4687733907487397
         ]
        },
        {
         "mode": "lines",
         "name": "BuSWA_3D_mean",
         "type": "scatter",
         "x": [
          30,
          40,
          50,
          60,
          70,
          80,
          90,
          100,
          120,
          140,
          160,
          180,
          200,
          250,
          300,
          400,
          500,
          750
         ],
         "y": [
          0.0645080613830617,
          0.083792334041947,
          0.1826739728392046,
          0.2207074326266005,
          0.3930374846122257,
          0.268322026588879,
          0.2608341513871666,
          0.3223028809070938,
          0.4235671981870361,
          0.4786729793838986,
          0.4436911615816838,
          0.4879074498487747,
          0.492070076437872,
          0.590717392007456,
          0.6886785951503638,
          0.7142955464252094,
          0.608860240989904,
          0.4687733907487397
         ]
        },
        {
         "mode": "lines",
         "name": "BuAre_sum",
         "type": "scatter",
         "x": [
          30,
          40,
          50,
          60,
          70,
          80,
          90,
          100,
          120,
          140,
          160,
          180,
          200,
          250,
          300,
          400,
          500,
          750
         ],
         "y": [
          0.1533225455100459,
          0.0143469387509636,
          0.0082482422753666,
          0.0294998419716412,
          0.1268591730759534,
          0.041094901615635,
          0.1090243006570057,
          0.1344518364370315,
          0.1148110021939587,
          0.1928676460757401,
          0.1874856710246475,
          0.193282007948436,
          0.2624025681519422,
          0.4990969964801088,
          0.4888905082915538,
          0.6215556254563448,
          0.6415358907626973,
          0.5818656318057274
         ]
        },
        {
         "mode": "lines",
         "name": "StrHD_max",
         "type": "scatter",
         "x": [
          30,
          40,
          50,
          60,
          70,
          80,
          90,
          100,
          120,
          140,
          160,
          180,
          200,
          250,
          300,
          400,
          500,
          750
         ],
         "y": [
          null,
          0,
          0,
          0.1201526414761713,
          0.0260777131365372,
          0.0193948070834684,
          0.178708545608532,
          0.0059225471454316,
          0.0856749860595882,
          0.224382167052686,
          0.1416299211716174,
          0.2671401035286977,
          0.1610118394959589,
          0.3307127249008195,
          0.489571898379793,
          0.2103562646541925,
          0.5179229083410688,
          0.7023098355116644
         ]
        }
       ],
       "layout": {
        "font": {
         "color": "RebeccaPurple",
         "family": "Courier New, monospace",
         "size": 18
        },
        "template": {
         "data": {
          "bar": [
           {
            "error_x": {
             "color": "#2a3f5f"
            },
            "error_y": {
             "color": "#2a3f5f"
            },
            "marker": {
             "line": {
              "color": "#E5ECF6",
              "width": 0.5
             },
             "pattern": {
              "fillmode": "overlay",
              "size": 10,
              "solidity": 0.2
             }
            },
            "type": "bar"
           }
          ],
          "barpolar": [
           {
            "marker": {
             "line": {
              "color": "#E5ECF6",
              "width": 0.5
             },
             "pattern": {
              "fillmode": "overlay",
              "size": 10,
              "solidity": 0.2
             }
            },
            "type": "barpolar"
           }
          ],
          "carpet": [
           {
            "aaxis": {
             "endlinecolor": "#2a3f5f",
             "gridcolor": "white",
             "linecolor": "white",
             "minorgridcolor": "white",
             "startlinecolor": "#2a3f5f"
            },
            "baxis": {
             "endlinecolor": "#2a3f5f",
             "gridcolor": "white",
             "linecolor": "white",
             "minorgridcolor": "white",
             "startlinecolor": "#2a3f5f"
            },
            "type": "carpet"
           }
          ],
          "choropleth": [
           {
            "colorbar": {
             "outlinewidth": 0,
             "ticks": ""
            },
            "type": "choropleth"
           }
          ],
          "contour": [
           {
            "colorbar": {
             "outlinewidth": 0,
             "ticks": ""
            },
            "colorscale": [
             [
              0,
              "#0d0887"
             ],
             [
              0.1111111111111111,
              "#46039f"
             ],
             [
              0.2222222222222222,
              "#7201a8"
             ],
             [
              0.3333333333333333,
              "#9c179e"
             ],
             [
              0.4444444444444444,
              "#bd3786"
             ],
             [
              0.5555555555555556,
              "#d8576b"
             ],
             [
              0.6666666666666666,
              "#ed7953"
             ],
             [
              0.7777777777777778,
              "#fb9f3a"
             ],
             [
              0.8888888888888888,
              "#fdca26"
             ],
             [
              1,
              "#f0f921"
             ]
            ],
            "type": "contour"
           }
          ],
          "contourcarpet": [
           {
            "colorbar": {
             "outlinewidth": 0,
             "ticks": ""
            },
            "type": "contourcarpet"
           }
          ],
          "heatmap": [
           {
            "colorbar": {
             "outlinewidth": 0,
             "ticks": ""
            },
            "colorscale": [
             [
              0,
              "#0d0887"
             ],
             [
              0.1111111111111111,
              "#46039f"
             ],
             [
              0.2222222222222222,
              "#7201a8"
             ],
             [
              0.3333333333333333,
              "#9c179e"
             ],
             [
              0.4444444444444444,
              "#bd3786"
             ],
             [
              0.5555555555555556,
              "#d8576b"
             ],
             [
              0.6666666666666666,
              "#ed7953"
             ],
             [
              0.7777777777777778,
              "#fb9f3a"
             ],
             [
              0.8888888888888888,
              "#fdca26"
             ],
             [
              1,
              "#f0f921"
             ]
            ],
            "type": "heatmap"
           }
          ],
          "heatmapgl": [
           {
            "colorbar": {
             "outlinewidth": 0,
             "ticks": ""
            },
            "colorscale": [
             [
              0,
              "#0d0887"
             ],
             [
              0.1111111111111111,
              "#46039f"
             ],
             [
              0.2222222222222222,
              "#7201a8"
             ],
             [
              0.3333333333333333,
              "#9c179e"
             ],
             [
              0.4444444444444444,
              "#bd3786"
             ],
             [
              0.5555555555555556,
              "#d8576b"
             ],
             [
              0.6666666666666666,
              "#ed7953"
             ],
             [
              0.7777777777777778,
              "#fb9f3a"
             ],
             [
              0.8888888888888888,
              "#fdca26"
             ],
             [
              1,
              "#f0f921"
             ]
            ],
            "type": "heatmapgl"
           }
          ],
          "histogram": [
           {
            "marker": {
             "pattern": {
              "fillmode": "overlay",
              "size": 10,
              "solidity": 0.2
             }
            },
            "type": "histogram"
           }
          ],
          "histogram2d": [
           {
            "colorbar": {
             "outlinewidth": 0,
             "ticks": ""
            },
            "colorscale": [
             [
              0,
              "#0d0887"
             ],
             [
              0.1111111111111111,
              "#46039f"
             ],
             [
              0.2222222222222222,
              "#7201a8"
             ],
             [
              0.3333333333333333,
              "#9c179e"
             ],
             [
              0.4444444444444444,
              "#bd3786"
             ],
             [
              0.5555555555555556,
              "#d8576b"
             ],
             [
              0.6666666666666666,
              "#ed7953"
             ],
             [
              0.7777777777777778,
              "#fb9f3a"
             ],
             [
              0.8888888888888888,
              "#fdca26"
             ],
             [
              1,
              "#f0f921"
             ]
            ],
            "type": "histogram2d"
           }
          ],
          "histogram2dcontour": [
           {
            "colorbar": {
             "outlinewidth": 0,
             "ticks": ""
            },
            "colorscale": [
             [
              0,
              "#0d0887"
             ],
             [
              0.1111111111111111,
              "#46039f"
             ],
             [
              0.2222222222222222,
              "#7201a8"
             ],
             [
              0.3333333333333333,
              "#9c179e"
             ],
             [
              0.4444444444444444,
              "#bd3786"
             ],
             [
              0.5555555555555556,
              "#d8576b"
             ],
             [
              0.6666666666666666,
              "#ed7953"
             ],
             [
              0.7777777777777778,
              "#fb9f3a"
             ],
             [
              0.8888888888888888,
              "#fdca26"
             ],
             [
              1,
              "#f0f921"
             ]
            ],
            "type": "histogram2dcontour"
           }
          ],
          "mesh3d": [
           {
            "colorbar": {
             "outlinewidth": 0,
             "ticks": ""
            },
            "type": "mesh3d"
           }
          ],
          "parcoords": [
           {
            "line": {
             "colorbar": {
              "outlinewidth": 0,
              "ticks": ""
             }
            },
            "type": "parcoords"
           }
          ],
          "pie": [
           {
            "automargin": true,
            "type": "pie"
           }
          ],
          "scatter": [
           {
            "fillpattern": {
             "fillmode": "overlay",
             "size": 10,
             "solidity": 0.2
            },
            "type": "scatter"
           }
          ],
          "scatter3d": [
           {
            "line": {
             "colorbar": {
              "outlinewidth": 0,
              "ticks": ""
             }
            },
            "marker": {
             "colorbar": {
              "outlinewidth": 0,
              "ticks": ""
             }
            },
            "type": "scatter3d"
           }
          ],
          "scattercarpet": [
           {
            "marker": {
             "colorbar": {
              "outlinewidth": 0,
              "ticks": ""
             }
            },
            "type": "scattercarpet"
           }
          ],
          "scattergeo": [
           {
            "marker": {
             "colorbar": {
              "outlinewidth": 0,
              "ticks": ""
             }
            },
            "type": "scattergeo"
           }
          ],
          "scattergl": [
           {
            "marker": {
             "colorbar": {
              "outlinewidth": 0,
              "ticks": ""
             }
            },
            "type": "scattergl"
           }
          ],
          "scattermapbox": [
           {
            "marker": {
             "colorbar": {
              "outlinewidth": 0,
              "ticks": ""
             }
            },
            "type": "scattermapbox"
           }
          ],
          "scatterpolar": [
           {
            "marker": {
             "colorbar": {
              "outlinewidth": 0,
              "ticks": ""
             }
            },
            "type": "scatterpolar"
           }
          ],
          "scatterpolargl": [
           {
            "marker": {
             "colorbar": {
              "outlinewidth": 0,
              "ticks": ""
             }
            },
            "type": "scatterpolargl"
           }
          ],
          "scatterternary": [
           {
            "marker": {
             "colorbar": {
              "outlinewidth": 0,
              "ticks": ""
             }
            },
            "type": "scatterternary"
           }
          ],
          "surface": [
           {
            "colorbar": {
             "outlinewidth": 0,
             "ticks": ""
            },
            "colorscale": [
             [
              0,
              "#0d0887"
             ],
             [
              0.1111111111111111,
              "#46039f"
             ],
             [
              0.2222222222222222,
              "#7201a8"
             ],
             [
              0.3333333333333333,
              "#9c179e"
             ],
             [
              0.4444444444444444,
              "#bd3786"
             ],
             [
              0.5555555555555556,
              "#d8576b"
             ],
             [
              0.6666666666666666,
              "#ed7953"
             ],
             [
              0.7777777777777778,
              "#fb9f3a"
             ],
             [
              0.8888888888888888,
              "#fdca26"
             ],
             [
              1,
              "#f0f921"
             ]
            ],
            "type": "surface"
           }
          ],
          "table": [
           {
            "cells": {
             "fill": {
              "color": "#EBF0F8"
             },
             "line": {
              "color": "white"
             }
            },
            "header": {
             "fill": {
              "color": "#C8D4E3"
             },
             "line": {
              "color": "white"
             }
            },
            "type": "table"
           }
          ]
         },
         "layout": {
          "annotationdefaults": {
           "arrowcolor": "#2a3f5f",
           "arrowhead": 0,
           "arrowwidth": 1
          },
          "autotypenumbers": "strict",
          "coloraxis": {
           "colorbar": {
            "outlinewidth": 0,
            "ticks": ""
           }
          },
          "colorscale": {
           "diverging": [
            [
             0,
             "#8e0152"
            ],
            [
             0.1,
             "#c51b7d"
            ],
            [
             0.2,
             "#de77ae"
            ],
            [
             0.3,
             "#f1b6da"
            ],
            [
             0.4,
             "#fde0ef"
            ],
            [
             0.5,
             "#f7f7f7"
            ],
            [
             0.6,
             "#e6f5d0"
            ],
            [
             0.7,
             "#b8e186"
            ],
            [
             0.8,
             "#7fbc41"
            ],
            [
             0.9,
             "#4d9221"
            ],
            [
             1,
             "#276419"
            ]
           ],
           "sequential": [
            [
             0,
             "#0d0887"
            ],
            [
             0.1111111111111111,
             "#46039f"
            ],
            [
             0.2222222222222222,
             "#7201a8"
            ],
            [
             0.3333333333333333,
             "#9c179e"
            ],
            [
             0.4444444444444444,
             "#bd3786"
            ],
            [
             0.5555555555555556,
             "#d8576b"
            ],
            [
             0.6666666666666666,
             "#ed7953"
            ],
            [
             0.7777777777777778,
             "#fb9f3a"
            ],
            [
             0.8888888888888888,
             "#fdca26"
            ],
            [
             1,
             "#f0f921"
            ]
           ],
           "sequentialminus": [
            [
             0,
             "#0d0887"
            ],
            [
             0.1111111111111111,
             "#46039f"
            ],
            [
             0.2222222222222222,
             "#7201a8"
            ],
            [
             0.3333333333333333,
             "#9c179e"
            ],
            [
             0.4444444444444444,
             "#bd3786"
            ],
            [
             0.5555555555555556,
             "#d8576b"
            ],
            [
             0.6666666666666666,
             "#ed7953"
            ],
            [
             0.7777777777777778,
             "#fb9f3a"
            ],
            [
             0.8888888888888888,
             "#fdca26"
            ],
            [
             1,
             "#f0f921"
            ]
           ]
          },
          "colorway": [
           "#636efa",
           "#EF553B",
           "#00cc96",
           "#ab63fa",
           "#FFA15A",
           "#19d3f3",
           "#FF6692",
           "#B6E880",
           "#FF97FF",
           "#FECB52"
          ],
          "font": {
           "color": "#2a3f5f"
          },
          "geo": {
           "bgcolor": "white",
           "lakecolor": "white",
           "landcolor": "#E5ECF6",
           "showlakes": true,
           "showland": true,
           "subunitcolor": "white"
          },
          "hoverlabel": {
           "align": "left"
          },
          "hovermode": "closest",
          "mapbox": {
           "style": "light"
          },
          "paper_bgcolor": "white",
          "plot_bgcolor": "#E5ECF6",
          "polar": {
           "angularaxis": {
            "gridcolor": "white",
            "linecolor": "white",
            "ticks": ""
           },
           "bgcolor": "#E5ECF6",
           "radialaxis": {
            "gridcolor": "white",
            "linecolor": "white",
            "ticks": ""
           }
          },
          "scene": {
           "xaxis": {
            "backgroundcolor": "#E5ECF6",
            "gridcolor": "white",
            "gridwidth": 2,
            "linecolor": "white",
            "showbackground": true,
            "ticks": "",
            "zerolinecolor": "white"
           },
           "yaxis": {
            "backgroundcolor": "#E5ECF6",
            "gridcolor": "white",
            "gridwidth": 2,
            "linecolor": "white",
            "showbackground": true,
            "ticks": "",
            "zerolinecolor": "white"
           },
           "zaxis": {
            "backgroundcolor": "#E5ECF6",
            "gridcolor": "white",
            "gridwidth": 2,
            "linecolor": "white",
            "showbackground": true,
            "ticks": "",
            "zerolinecolor": "white"
           }
          },
          "shapedefaults": {
           "line": {
            "color": "#2a3f5f"
           }
          },
          "ternary": {
           "aaxis": {
            "gridcolor": "white",
            "linecolor": "white",
            "ticks": ""
           },
           "baxis": {
            "gridcolor": "white",
            "linecolor": "white",
            "ticks": ""
           },
           "bgcolor": "#E5ECF6",
           "caxis": {
            "gridcolor": "white",
            "linecolor": "white",
            "ticks": ""
           }
          },
          "title": {
           "x": 0.05
          },
          "xaxis": {
           "automargin": true,
           "gridcolor": "white",
           "linecolor": "white",
           "ticks": "",
           "title": {
            "standoff": 15
           },
           "zerolinecolor": "white",
           "zerolinewidth": 2
          },
          "yaxis": {
           "automargin": true,
           "gridcolor": "white",
           "linecolor": "white",
           "ticks": "",
           "title": {
            "standoff": 15
           },
           "zerolinecolor": "white",
           "zerolinewidth": 2
          }
         }
        },
        "title": {
         "text": "Mutual Information of top parameters against radii"
        },
        "xaxis": {
         "title": {
          "text": "Radii"
         }
        },
        "yaxis": {
         "title": {
          "text": "Mutual Information"
         }
        }
       }
      }
     },
     "metadata": {},
     "output_type": "display_data"
    }
   ],
   "source": [
    "# interactive plot\n",
    "import plotly.express as px\n",
    "import plotly.graph_objects as go\n",
    "\n",
    "fig = go.Figure()\n",
    "for i in top_params:\n",
    "    fig.add_trace(go.Scatter(x=list(mi_dict.keys()), y=[mi_dict[j][mi_dict[j].index==i].values[0] for j in mi_dict.keys()], mode='lines', name=i))\n",
    "\n",
    "\n",
    "fig.update_layout(\n",
    "    title=\"Mutual Information of top parameters against radii\",\n",
    "    xaxis_title=\"Radii\",\n",
    "    yaxis_title=\"Mutual Information\",\n",
    "    font=dict(\n",
    "        family=\"Courier New, monospace\",\n",
    "        size=18,\n",
    "        color=\"RebeccaPurple\"\n",
    "    )\n",
    ")\n",
    "\n",
    "fig.show()\n"
   ]
  }
 ],
 "metadata": {
  "kernelspec": {
   "display_name": "py312_uscuni_buildingfootprints",
   "language": "python",
   "name": "python3"
  },
  "language_info": {
   "codemirror_mode": {
    "name": "ipython",
    "version": 3
   },
   "file_extension": ".py",
   "mimetype": "text/x-python",
   "name": "python",
   "nbconvert_exporter": "python",
   "pygments_lexer": "ipython3",
   "version": "3.12.2"
  }
 },
 "nbformat": 4,
 "nbformat_minor": 2
}
